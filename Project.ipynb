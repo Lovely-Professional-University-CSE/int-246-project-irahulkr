import numpy as np
import skfuzzy as fuzz
from skfuzzy import control as ctrl
wind_speed = ctrl.Antecedent(np.arange(12, 90, 1), 'wind_speed')
air_density = ctrl.Antecedent(np.arange(0.2, 1.8, 0.1), 'air_density')
power = ctrl.Consequent(np.arange(0, 101, 1), 'power')
wind_speed['l'] = fuzz.trimf(wind_speed.universe, [12, 16, 25])
wind_speed['m'] = fuzz.trimf(wind_speed.universe, [16, 45, 60])
wind_speed['h'] = fuzz.trimf(wind_speed.universe, [45, 70, 90])
air_density['l'] = fuzz.trimf(air_density.universe, [0.1, 0.3, 0.6])
air_density['m'] = fuzz.trimf(air_density.universe, [0.3,0.9, 1.3])
air_density['h'] = fuzz.trimf(air_density.universe, [0.9, 1.5, 1.8])
power['l'] = fuzz.trimf(power.universe, [0, 25, 50])
power['m'] = fuzz.trimf(power.universe, [25, 50, 75])
power['h'] = fuzz.trimf(power.universe, [50, 75, 100])
wind_speed.view()
air_density.view()
power.view()
rule1 = ctrl.Rule(wind_speed['l'] & air_density['l'], power['l'])
rule2 = ctrl.Rule(wind_speed['l'] & air_density['m'], power['l'])
rule3 = ctrl.Rule(wind_speed['l'] & air_density['h'], power['m'])
rule4 = ctrl.Rule(wind_speed['m'] & air_density['l'], power['m'])
rule5 = ctrl.Rule(wind_speed['m'] & air_density['m'], power['m'])
rule6 = ctrl.Rule(wind_speed['m'] & air_density['h'], power['m'])
rule7 = ctrl.Rule(wind_speed['h'] & air_density['l'], power['m'])
rule8 = ctrl.Rule(wind_speed['h'] & air_density['m'], power['h'])
rule9 = ctrl.Rule(wind_speed['h'] & air_density['h'], power['h'])


we_ctrl = ctrl.ControlSystem([rule1, rule2, rule3, rule4,rule5,rule6,rule7,rule8,rule9])
we = ctrl.ControlSystemSimulation(we_ctrl)

we.input['wind_speed'] = 50
we.input['air_density'] = 1.2

we.compute()
print (we.output['power'])
power.view(sim=we)

